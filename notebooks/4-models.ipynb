{
 "cells": [
  {
   "cell_type": "markdown",
   "metadata": {},
   "source": [
    "# Content"
   ]
  },
  {
   "cell_type": "markdown",
   "metadata": {},
   "source": [
    "We are going to define a benchmark model: Logistic Regression. Then, we could consider more complex models. "
   ]
  },
  {
   "cell_type": "code",
   "execution_count": 10,
   "metadata": {},
   "outputs": [],
   "source": [
    "import pandas as pd\n",
    "import numpy as np\n",
    "import matplotlib.pyplot as plt\n",
    "from statsmodels.discrete.discrete_model import Logit\n",
    "from sklearn.linear_model import LogisticRegression\n",
    "from sklearn.metrics import classification_report\n",
    "from sklearn.model_selection import cross_validate"
   ]
  },
  {
   "cell_type": "code",
   "execution_count": 11,
   "metadata": {},
   "outputs": [
    {
     "data": {
      "text/html": [
       "<div>\n",
       "<style scoped>\n",
       "    .dataframe tbody tr th:only-of-type {\n",
       "        vertical-align: middle;\n",
       "    }\n",
       "\n",
       "    .dataframe tbody tr th {\n",
       "        vertical-align: top;\n",
       "    }\n",
       "\n",
       "    .dataframe thead th {\n",
       "        text-align: right;\n",
       "    }\n",
       "</style>\n",
       "<table border=\"1\" class=\"dataframe\">\n",
       "  <thead>\n",
       "    <tr style=\"text-align: right;\">\n",
       "      <th></th>\n",
       "      <th>price_bool</th>\n",
       "      <th>rating_mult</th>\n",
       "      <th>sponsored_option</th>\n",
       "      <th>position_cat_stand</th>\n",
       "      <th>prime_option</th>\n",
       "      <th>subcategory</th>\n",
       "    </tr>\n",
       "  </thead>\n",
       "  <tbody>\n",
       "    <tr>\n",
       "      <th>0</th>\n",
       "      <td>True</td>\n",
       "      <td>49.0</td>\n",
       "      <td>True</td>\n",
       "      <td>-0.756513</td>\n",
       "      <td>True</td>\n",
       "      <td>Boxing Training Gloves</td>\n",
       "    </tr>\n",
       "    <tr>\n",
       "      <th>1</th>\n",
       "      <td>True</td>\n",
       "      <td>46.0</td>\n",
       "      <td>True</td>\n",
       "      <td>-0.740763</td>\n",
       "      <td>True</td>\n",
       "      <td>Boxing Gloves</td>\n",
       "    </tr>\n",
       "    <tr>\n",
       "      <th>2</th>\n",
       "      <td>True</td>\n",
       "      <td>49.0</td>\n",
       "      <td>True</td>\n",
       "      <td>-0.738252</td>\n",
       "      <td>True</td>\n",
       "      <td>Boxing Gloves</td>\n",
       "    </tr>\n",
       "    <tr>\n",
       "      <th>3</th>\n",
       "      <td>True</td>\n",
       "      <td>47.0</td>\n",
       "      <td>True</td>\n",
       "      <td>-0.749363</td>\n",
       "      <td>True</td>\n",
       "      <td>Boxing Training Gloves</td>\n",
       "    </tr>\n",
       "    <tr>\n",
       "      <th>4</th>\n",
       "      <td>True</td>\n",
       "      <td>46.0</td>\n",
       "      <td>False</td>\n",
       "      <td>-0.758141</td>\n",
       "      <td>True</td>\n",
       "      <td>Boxing Training Gloves</td>\n",
       "    </tr>\n",
       "  </tbody>\n",
       "</table>\n",
       "</div>"
      ],
      "text/plain": [
       "   price_bool  rating_mult  sponsored_option  position_cat_stand  \\\n",
       "0        True         49.0              True           -0.756513   \n",
       "1        True         46.0              True           -0.740763   \n",
       "2        True         49.0              True           -0.738252   \n",
       "3        True         47.0              True           -0.749363   \n",
       "4        True         46.0             False           -0.758141   \n",
       "\n",
       "   prime_option             subcategory  \n",
       "0          True  Boxing Training Gloves  \n",
       "1          True           Boxing Gloves  \n",
       "2          True           Boxing Gloves  \n",
       "3          True  Boxing Training Gloves  \n",
       "4          True  Boxing Training Gloves  "
      ]
     },
     "execution_count": 11,
     "metadata": {},
     "output_type": "execute_result"
    }
   ],
   "source": [
    "data = pd.read_csv('../data/processed/training_data.csv')\n",
    "data.head()"
   ]
  },
  {
   "cell_type": "markdown",
   "metadata": {},
   "source": [
    "We will consider just the products in the three main categories: \"Boxing Training Gloves\", \"Boxing Fight Gloves\", \"Training Gloves\". The other categories usually correspond to products that are not boxing gloves, for example, MMA gloves or boxing bandages."
   ]
  },
  {
   "cell_type": "code",
   "execution_count": 12,
   "metadata": {},
   "outputs": [],
   "source": [
    "main_cat = data['subcategory'].value_counts()[:3].index.tolist()\n",
    "data = data[data['subcategory'].isin(main_cat)]"
   ]
  },
  {
   "cell_type": "code",
   "execution_count": 13,
   "metadata": {},
   "outputs": [],
   "source": [
    "features = ['price_bool', 'position_cat_stand', 'rating_mult']\n",
    "\n",
    "X = data.dropna(how='any')[features].astype(float)\n",
    "y = data.dropna(how='any')['prime_option']\n",
    "cv=5  #folds in cross-validation"
   ]
  },
  {
   "cell_type": "markdown",
   "metadata": {},
   "source": [
    "# Benchmark model: Logistic Regression"
   ]
  },
  {
   "cell_type": "markdown",
   "metadata": {},
   "source": [
    "As a benchmark model, I propose to use the Logistic Regression with the sigmoid kernel (Logit). As a scoring metric, we will use the accuracy as usual."
   ]
  },
  {
   "cell_type": "code",
   "execution_count": 14,
   "metadata": {},
   "outputs": [
    {
     "name": "stdout",
     "output_type": "stream",
     "text": [
      "Optimization terminated successfully.\n",
      "         Current function value: 0.364825\n",
      "         Iterations 7\n",
      "                           Logit Regression Results                           \n",
      "==============================================================================\n",
      "Dep. Variable:           prime_option   No. Observations:                  254\n",
      "Model:                          Logit   Df Residuals:                      251\n",
      "Method:                           MLE   Df Model:                            2\n",
      "Date:                Sun, 21 Feb 2021   Pseudo R-squ.:                  0.4731\n",
      "Time:                        11:55:53   Log-Likelihood:                -92.666\n",
      "converged:                       True   LL-Null:                       -175.86\n",
      "Covariance Type:            nonrobust   LLR p-value:                 7.380e-37\n",
      "======================================================================================\n",
      "                         coef    std err          z      P>|z|      [0.025      0.975]\n",
      "--------------------------------------------------------------------------------------\n",
      "price_bool             3.9740      0.412      9.635      0.000       3.166       4.782\n",
      "position_cat_stand    -1.2465      0.304     -4.097      0.000      -1.843      -0.650\n",
      "rating_mult           -0.0523      0.007     -7.738      0.000      -0.066      -0.039\n",
      "======================================================================================\n"
     ]
    }
   ],
   "source": [
    "Logit_sm = Logit(endog=y, exog=X).fit()\n",
    "print(Logit_sm.summary())"
   ]
  },
  {
   "cell_type": "markdown",
   "metadata": {},
   "source": [
    "We can see that the LLR p-value is low enough to assume that the features explain the target feature better than a constant model. The Pseudo R-squared is not too much high but enough to consider the model as acceptable if we consider that our sample is very small.\n",
    "\n",
    "In general, the marginal p-values are zero, so no features coefficient is zero.\n",
    "\n",
    "We could interpret the model as follows:\n",
    "1. If a product price is in [20, inf], it is more likely to sell with the prime option.\n",
    "2. The higher the position in the category rank is, the less likely they to sell with the prime option.\n",
    "3. The higher the rating is, the less likely to sell with the prime option."
   ]
  },
  {
   "cell_type": "markdown",
   "metadata": {},
   "source": [
    "## Diagnostic"
   ]
  },
  {
   "cell_type": "markdown",
   "metadata": {},
   "source": [
    "We will compute the accuracy over the whole data, perform a cross validation using the recall as a scoring metric, the confussion matrix and a built-in classification report provided by sklearn."
   ]
  },
  {
   "cell_type": "code",
   "execution_count": 16,
   "metadata": {},
   "outputs": [],
   "source": [
    "LR = LogisticRegression()\n",
    "cv_result = cross_validate(LR, X, y,\n",
    "                           cv=cv, return_train_score=True)"
   ]
  },
  {
   "cell_type": "code",
   "execution_count": 17,
   "metadata": {},
   "outputs": [
    {
     "data": {
      "image/png": "[encoded data removed]",
      "text/plain": [
       "<Figure size 720x288 with 1 Axes>"
      ]
     },
     "metadata": {
      "needs_background": "light"
     },
     "output_type": "display_data"
    }
   ],
   "source": [
    "plt.figure(figsize=(10,4))\n",
    "plt.bar(range(0,cv), cv_result['test_score'])\n",
    "plt.bar(range(0,cv), cv_result['train_score'], alpha=.5)\n",
    "plt.legend(['test', 'train'], loc='upper right')\n",
    "plt.xlabel('K-Fold')\n",
    "plt.ylabel('accuracy')\n",
    "plt.title('Cross validation result (Logistic Regression)')\n",
    "plt.savefig('figures/cv-result.png')\n",
    "plt.show()"
   ]
  },
  {
   "cell_type": "markdown",
   "metadata": {},
   "source": [
    "We can see that the model does not seem to depend on the sample because the scores look similar in both training and test sets, so there is no strong evidence of overfitting."
   ]
  },
  {
   "cell_type": "code",
   "execution_count": 18,
   "metadata": {},
   "outputs": [
    {
     "ename": "NameError",
     "evalue": "name 'y_pred' is not defined",
     "output_type": "error",
     "traceback": [
      "\u001b[1;31m---------------------------------------------------------------------------\u001b[0m",
      "\u001b[1;31mNameError\u001b[0m                                 Traceback (most recent call last)",
      "\u001b[1;32m<ipython-input-18-c3fe9539288b>\u001b[0m in \u001b[0;36m<module>\u001b[1;34m\u001b[0m\n\u001b[1;32m----> 1\u001b[1;33m \u001b[0mprint\u001b[0m\u001b[1;33m(\u001b[0m\u001b[1;34m'\\n Confussion Matrix \\n\\n'\u001b[0m\u001b[1;33m,\u001b[0m \u001b[0mpd\u001b[0m\u001b[1;33m.\u001b[0m\u001b[0mcrosstab\u001b[0m\u001b[1;33m(\u001b[0m\u001b[0my\u001b[0m\u001b[1;33m,\u001b[0m \u001b[0mpd\u001b[0m\u001b[1;33m.\u001b[0m\u001b[0mSeries\u001b[0m\u001b[1;33m(\u001b[0m\u001b[0my_pred\u001b[0m\u001b[1;33m,\u001b[0m \u001b[0mname\u001b[0m\u001b[1;33m=\u001b[0m\u001b[1;34m'pred'\u001b[0m\u001b[1;33m)\u001b[0m\u001b[1;33m)\u001b[0m\u001b[1;33m)\u001b[0m\u001b[1;33m\u001b[0m\u001b[1;33m\u001b[0m\u001b[0m\n\u001b[0m\u001b[0;32m      2\u001b[0m \u001b[0mprint\u001b[0m\u001b[1;33m(\u001b[0m\u001b[1;34m'\\nClassification Report\\n'\u001b[0m\u001b[1;33m)\u001b[0m\u001b[1;33m\u001b[0m\u001b[1;33m\u001b[0m\u001b[0m\n\u001b[0;32m      3\u001b[0m \u001b[0mprint\u001b[0m\u001b[1;33m(\u001b[0m\u001b[0mclassification_report\u001b[0m\u001b[1;33m(\u001b[0m\u001b[0my\u001b[0m\u001b[1;33m,\u001b[0m \u001b[0my_pred\u001b[0m\u001b[1;33m)\u001b[0m\u001b[1;33m)\u001b[0m\u001b[1;33m\u001b[0m\u001b[1;33m\u001b[0m\u001b[0m\n",
      "\u001b[1;31mNameError\u001b[0m: name 'y_pred' is not defined"
     ]
    }
   ],
   "source": [
    "print('\\n Confussion Matrix \\n\\n', pd.crosstab(y, pd.Series(y_pred, name='pred')))\n",
    "print('\\nClassification Report\\n')\n",
    "print(classification_report(y, y_pred))"
   ]
  },
  {
   "cell_type": "markdown",
   "metadata": {},
   "source": [
    "We can see that 87% of Prime products have been well classified, and 86% of no prime products have been well classified. The errors are not unbalanced because the recalls are similar. Let's see how the model performs in the entire dataset."
   ]
  },
  {
   "cell_type": "code",
   "execution_count": null,
   "metadata": {},
   "outputs": [],
   "source": [
    "threshold = .5\n",
    "y_pred = Logit_sm.predict(X).apply(lambda x: True if x>threshold else False)\n",
    "print('accuracy: ', LR.fit(X,y).score(X,y),\n",
    "      '\\ncv accuracy mean (testing): ', np.mean(cv_result['test_score']))"
   ]
  },
  {
   "cell_type": "markdown",
   "metadata": {},
   "source": [
    "We can see that the accuracy is around 86%, and the accuracy over unseen observations during the cross-validation is close to 0.86% too."
   ]
  },
  {
   "cell_type": "markdown",
   "metadata": {},
   "source": [
    "# Conclusion"
   ]
  },
  {
   "cell_type": "markdown",
   "metadata": {},
   "source": [
    "In overall the Logistic Regression can classify Boxing Gloves products into Prime or not Prime option in the Amazon's shop with an accuracy and recall around 86% which means that 86 out 100 times, it will lead us to the correct decission."
   ]
  },
  {
   "cell_type": "markdown",
   "metadata": {},
   "source": [
    "# Model's Threshold discussion\n",
    "\n",
    "Let's say that the Amazon Prime option has a cost of $c > 0$ by month, and the opportunity cost by purchase (the customer does not buy the product because it is not in Prime option) is $c'>0$. How could we say in order to the costs if the model still being acceptable?\n",
    "\n",
    "We should consider three cases:\n",
    "\n",
    "1. $c'>c$, in this case, the seller would want to sell in Amazon Prime option even the cost of Amazon Prime because the opportunity cost of no selling is greater than the Amazon subscription. In this case, we should adjust the threshold close to 1 in order to ensure that the False Negatives (products that are wrong classified in no Prime) are as less as possible.\n",
    "2. $c'<c$, this case is the opposite of the above one.\n",
    "3. $c' \\approx c$, in this case, does not matter the costs, and the threshold is set up at 0.5 by definition, which usually means balanced classification errors."
   ]
  },
  {
   "cell_type": "markdown",
   "metadata": {},
   "source": [
    "# References"
   ]
  },
  {
   "cell_type": "markdown",
   "metadata": {},
   "source": [
    "[1] Prime option subscription information:\n",
    "https://services.amazon.co.uk/services/sell-online/pricing.html"
   ]
  }
 ],
 "metadata": {
  "kernelspec": {
   "display_name": "Python 3",
   "language": "python",
   "name": "python3"
  },
  "language_info": {
   "codemirror_mode": {
    "name": "ipython",
    "version": 3
   },
   "file_extension": ".py",
   "mimetype": "text/x-python",
   "name": "python",
   "nbconvert_exporter": "python",
   "pygments_lexer": "ipython3",
   "version": "3.8.5"
  }
 },
 "nbformat": 4,
 "nbformat_minor": 4
}
