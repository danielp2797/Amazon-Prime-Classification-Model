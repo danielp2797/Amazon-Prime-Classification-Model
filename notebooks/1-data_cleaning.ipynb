{
 "cells": [
  {
   "cell_type": "markdown",
   "metadata": {},
   "source": [
    "# Content"
   ]
  },
  {
   "cell_type": "markdown",
   "metadata": {},
   "source": [
    "Due to the complexity associated to web scraping, it is usual to get data with small imperfections which are easy to correct. In this notebook we are going to see how the data is automatically cleaned. The whole process is summarised in the preprocessing.py script. "
   ]
  },
  {
   "cell_type": "code",
   "execution_count": 25,
   "metadata": {},
   "outputs": [],
   "source": [
    "import pandas as pd\n",
    "import numpy as np\n",
    "import seaborn as sns\n",
    "import matplotlib.pyplot as plt\n",
    "import datetime\n",
    "import ast"
   ]
  },
  {
   "cell_type": "code",
   "execution_count": 26,
   "metadata": {},
   "outputs": [],
   "source": [
    "data = pd.read_csv('../data/raw/amazon_shop_data_boxing_fighting_gloves.csv')"
   ]
  },
  {
   "cell_type": "code",
   "execution_count": 27,
   "metadata": {},
   "outputs": [
    {
     "data": {
      "text/html": [
       "<div>\n",
       "<style scoped>\n",
       "    .dataframe tbody tr th:only-of-type {\n",
       "        vertical-align: middle;\n",
       "    }\n",
       "\n",
       "    .dataframe tbody tr th {\n",
       "        vertical-align: top;\n",
       "    }\n",
       "\n",
       "    .dataframe thead th {\n",
       "        text-align: right;\n",
       "    }\n",
       "</style>\n",
       "<table border=\"1\" class=\"dataframe\">\n",
       "  <thead>\n",
       "    <tr style=\"text-align: right;\">\n",
       "      <th></th>\n",
       "      <th>title</th>\n",
       "      <th>brand</th>\n",
       "      <th>rating</th>\n",
       "      <th>ratings_number</th>\n",
       "      <th>price</th>\n",
       "      <th>prime_option</th>\n",
       "      <th>answers</th>\n",
       "      <th>first_date</th>\n",
       "      <th>sponsored_option</th>\n",
       "      <th>categories</th>\n",
       "      <th>position</th>\n",
       "      <th>page</th>\n",
       "    </tr>\n",
       "  </thead>\n",
       "  <tbody>\n",
       "    <tr>\n",
       "      <th>0</th>\n",
       "      <td>RDX Boxing Gloves Sparring and Muay Thai Maya ...</td>\n",
       "      <td>Visit the RDX Store</td>\n",
       "      <td>4.9 out of 5 stars</td>\n",
       "      <td>93 ratings</td>\n",
       "      <td>28.0</td>\n",
       "      <td>True</td>\n",
       "      <td>0</td>\n",
       "      <td>\\n6 Nov. 2020\\n</td>\n",
       "      <td>True</td>\n",
       "      <td>['882 in Sports &amp; Outdoors (See Top 100 in Spo...</td>\n",
       "      <td>0</td>\n",
       "      <td>1</td>\n",
       "    </tr>\n",
       "    <tr>\n",
       "      <th>1</th>\n",
       "      <td>XN8 Boxing Gloves for Training Punch bag - MMA...</td>\n",
       "      <td>Visit the Xn8 Sports Store</td>\n",
       "      <td>4.6 out of 5 stars</td>\n",
       "      <td>306 ratings</td>\n",
       "      <td>23.0</td>\n",
       "      <td>True</td>\n",
       "      <td>\\n5 answered questions\\n</td>\n",
       "      <td>\\n21 July 2020\\n</td>\n",
       "      <td>True</td>\n",
       "      <td>['3,900 in Sports &amp; Outdoors (See Top 100 in S...</td>\n",
       "      <td>1</td>\n",
       "      <td>1</td>\n",
       "    </tr>\n",
       "    <tr>\n",
       "      <th>2</th>\n",
       "      <td>RDX MMA Gloves Grappling Sparring, Pre-Curved ...</td>\n",
       "      <td>Visit the RDX Store</td>\n",
       "      <td>4.9 out of 5 stars</td>\n",
       "      <td>13 ratings</td>\n",
       "      <td>22.0</td>\n",
       "      <td>True</td>\n",
       "      <td>0</td>\n",
       "      <td>\\n13 Nov. 2020\\n</td>\n",
       "      <td>True</td>\n",
       "      <td>['4,381 in Sports &amp; Outdoors (See Top 100 in S...</td>\n",
       "      <td>2</td>\n",
       "      <td>1</td>\n",
       "    </tr>\n",
       "    <tr>\n",
       "      <th>3</th>\n",
       "      <td>RDX Boxing Gloves for Training Muay Thai Maya ...</td>\n",
       "      <td>Visit the RDX Store</td>\n",
       "      <td>4.7 out of 5 stars</td>\n",
       "      <td>1,631 ratings</td>\n",
       "      <td>31.0</td>\n",
       "      <td>True</td>\n",
       "      <td>\\n28 answered questions\\n</td>\n",
       "      <td>\\n5 Oct. 2018\\n</td>\n",
       "      <td>True</td>\n",
       "      <td>['2,252 in Sports &amp; Outdoors (See Top 100 in S...</td>\n",
       "      <td>3</td>\n",
       "      <td>1</td>\n",
       "    </tr>\n",
       "    <tr>\n",
       "      <th>4</th>\n",
       "      <td>EVO Boxing Gloves with Hand Wraps For Men and ...</td>\n",
       "      <td>Brand: EVO Fitness</td>\n",
       "      <td>4.6 out of 5 stars</td>\n",
       "      <td>619 ratings</td>\n",
       "      <td>21.0</td>\n",
       "      <td>True</td>\n",
       "      <td>\\n12 answered questions\\n</td>\n",
       "      <td>\\n6 Feb. 2014\\n</td>\n",
       "      <td>False</td>\n",
       "      <td>['570 in Sports &amp; Outdoors (See Top 100 in Spo...</td>\n",
       "      <td>4</td>\n",
       "      <td>1</td>\n",
       "    </tr>\n",
       "  </tbody>\n",
       "</table>\n",
       "</div>"
      ],
      "text/plain": [
       "                                               title  \\\n",
       "0  RDX Boxing Gloves Sparring and Muay Thai Maya ...   \n",
       "1  XN8 Boxing Gloves for Training Punch bag - MMA...   \n",
       "2  RDX MMA Gloves Grappling Sparring, Pre-Curved ...   \n",
       "3  RDX Boxing Gloves for Training Muay Thai Maya ...   \n",
       "4  EVO Boxing Gloves with Hand Wraps For Men and ...   \n",
       "\n",
       "                        brand              rating ratings_number  price  \\\n",
       "0         Visit the RDX Store  4.9 out of 5 stars     93 ratings   28.0   \n",
       "1  Visit the Xn8 Sports Store  4.6 out of 5 stars    306 ratings   23.0   \n",
       "2         Visit the RDX Store  4.9 out of 5 stars     13 ratings   22.0   \n",
       "3         Visit the RDX Store  4.7 out of 5 stars  1,631 ratings   31.0   \n",
       "4          Brand: EVO Fitness  4.6 out of 5 stars    619 ratings   21.0   \n",
       "\n",
       "   prime_option                    answers        first_date  \\\n",
       "0          True                          0   \\n6 Nov. 2020\\n   \n",
       "1          True   \\n5 answered questions\\n  \\n21 July 2020\\n   \n",
       "2          True                          0  \\n13 Nov. 2020\\n   \n",
       "3          True  \\n28 answered questions\\n   \\n5 Oct. 2018\\n   \n",
       "4          True  \\n12 answered questions\\n   \\n6 Feb. 2014\\n   \n",
       "\n",
       "   sponsored_option                                         categories  \\\n",
       "0              True  ['882 in Sports & Outdoors (See Top 100 in Spo...   \n",
       "1              True  ['3,900 in Sports & Outdoors (See Top 100 in S...   \n",
       "2              True  ['4,381 in Sports & Outdoors (See Top 100 in S...   \n",
       "3              True  ['2,252 in Sports & Outdoors (See Top 100 in S...   \n",
       "4             False  ['570 in Sports & Outdoors (See Top 100 in Spo...   \n",
       "\n",
       "   position  page  \n",
       "0         0     1  \n",
       "1         1     1  \n",
       "2         2     1  \n",
       "3         3     1  \n",
       "4         4     1  "
      ]
     },
     "execution_count": 27,
     "metadata": {},
     "output_type": "execute_result"
    }
   ],
   "source": [
    "data.head()"
   ]
  },
  {
   "cell_type": "code",
   "execution_count": 28,
   "metadata": {},
   "outputs": [
    {
     "data": {
      "text/plain": [
       "(360, 12)"
      ]
     },
     "execution_count": 28,
     "metadata": {},
     "output_type": "execute_result"
    }
   ],
   "source": [
    "data.shape"
   ]
  },
  {
   "cell_type": "code",
   "execution_count": 29,
   "metadata": {},
   "outputs": [
    {
     "data": {
      "text/plain": [
       "title                0\n",
       "brand                0\n",
       "rating              68\n",
       "ratings_number      68\n",
       "price                6\n",
       "prime_option         0\n",
       "answers              0\n",
       "first_date           7\n",
       "sponsored_option     0\n",
       "categories           0\n",
       "position             0\n",
       "page                 0\n",
       "dtype: int64"
      ]
     },
     "execution_count": 29,
     "metadata": {},
     "output_type": "execute_result"
    }
   ],
   "source": [
    "data.isnull().sum()"
   ]
  },
  {
   "cell_type": "markdown",
   "metadata": {},
   "source": [
    "# Brand"
   ]
  },
  {
   "cell_type": "code",
   "execution_count": 30,
   "metadata": {},
   "outputs": [
    {
     "data": {
      "text/plain": [
       "0           Visit the RDX Store\n",
       "1    Visit the Xn8 Sports Store\n",
       "2           Visit the RDX Store\n",
       "3           Visit the RDX Store\n",
       "4            Brand: EVO Fitness\n",
       "Name: brand, dtype: object"
      ]
     },
     "execution_count": 30,
     "metadata": {},
     "output_type": "execute_result"
    }
   ],
   "source": [
    "data['brand'].head(5)"
   ]
  },
  {
   "cell_type": "markdown",
   "metadata": {},
   "source": [
    "We can see that the brand is included in two different phrases: \n",
    "\n",
    "1. 'Brand: {brand}'\n",
    "2. Visit the {brand} Store\n",
    "\n",
    "So, to be simple, we just have to take the proper indexes of the string values depending if 'Visit' or 'Brand' is a substring."
   ]
  },
  {
   "cell_type": "code",
   "execution_count": 31,
   "metadata": {},
   "outputs": [],
   "source": [
    "def get_brand(x):\n",
    "    \n",
    "    if 'Visit' in x:\n",
    "        return x[10:][:-6]\n",
    "    elif 'Brand' in x:\n",
    "        return x[7:]\n",
    "    else:\n",
    "        return x\n",
    "    \n",
    "data['brand'] = np.vectorize(get_brand)(data['brand'])"
   ]
  },
  {
   "cell_type": "markdown",
   "metadata": {},
   "source": [
    "# Rating"
   ]
  },
  {
   "cell_type": "code",
   "execution_count": 32,
   "metadata": {},
   "outputs": [
    {
     "data": {
      "text/plain": [
       "0    4.9 out of 5 stars\n",
       "1    4.6 out of 5 stars\n",
       "2    4.9 out of 5 stars\n",
       "3    4.7 out of 5 stars\n",
       "4    4.6 out of 5 stars\n",
       "Name: rating, dtype: object"
      ]
     },
     "execution_count": 32,
     "metadata": {},
     "output_type": "execute_result"
    }
   ],
   "source": [
    "data['rating'].head()"
   ]
  },
  {
   "cell_type": "markdown",
   "metadata": {},
   "source": [
    "As we can see, the rating has been collected as the string '{rating} out of 5 stars'. So, we just have to take the first three components."
   ]
  },
  {
   "cell_type": "code",
   "execution_count": 33,
   "metadata": {},
   "outputs": [],
   "source": [
    "data['rating'] = data['rating'].apply(lambda x: x[:3] if type(x)==str else x).astype(float)"
   ]
  },
  {
   "cell_type": "markdown",
   "metadata": {},
   "source": [
    "# Ratings number"
   ]
  },
  {
   "cell_type": "code",
   "execution_count": 34,
   "metadata": {},
   "outputs": [
    {
     "data": {
      "text/plain": [
       "0       93 ratings\n",
       "1      306 ratings\n",
       "2       13 ratings\n",
       "3    1,631 ratings\n",
       "4      619 ratings\n",
       "Name: ratings_number, dtype: object"
      ]
     },
     "execution_count": 34,
     "metadata": {},
     "output_type": "execute_result"
    }
   ],
   "source": [
    "data['ratings_number'].head()"
   ]
  },
  {
   "cell_type": "markdown",
   "metadata": {},
   "source": [
    "The ratings number has been collected as the string '{ratings_number} ratings', so, we just have to split the string by whitespaces and take the first element."
   ]
  },
  {
   "cell_type": "code",
   "execution_count": 35,
   "metadata": {},
   "outputs": [],
   "source": [
    "data['ratings_number'] = data['ratings_number'].apply(lambda x:\n",
    "                                                          int(x.split(' ')[0].replace(',', '')) if type(x)==str else 0)"
   ]
  },
  {
   "cell_type": "markdown",
   "metadata": {},
   "source": [
    "# Answers"
   ]
  },
  {
   "cell_type": "code",
   "execution_count": 36,
   "metadata": {},
   "outputs": [
    {
     "data": {
      "text/plain": [
       "0                              0\n",
       "1       \\n5 answered questions\\n\n",
       "2                              0\n",
       "3      \\n28 answered questions\\n\n",
       "4      \\n12 answered questions\\n\n",
       "                 ...            \n",
       "355     \\n6 answered questions\\n\n",
       "356                            0\n",
       "357                            0\n",
       "358                            0\n",
       "359     \\n6 answered questions\\n\n",
       "Name: answers, Length: 360, dtype: object"
      ]
     },
     "execution_count": 36,
     "metadata": {},
     "output_type": "execute_result"
    }
   ],
   "source": [
    "data['answers']"
   ]
  },
  {
   "cell_type": "markdown",
   "metadata": {},
   "source": [
    "As we can see, we have two different values, a string '\\n{ratings_number} answered questions' and a '0'. In the first case we just have to split the string by the whitespaces and take the last characters starting from the second character of the first split. In the second case we will transform the value into integer type."
   ]
  },
  {
   "cell_type": "code",
   "execution_count": 37,
   "metadata": {},
   "outputs": [],
   "source": [
    "data['answers']=data['answers'].apply(lambda x:\n",
    "                                          int(x[1:-2].split(' ')[0]) if '\\n' in x else x).astype(int)"
   ]
  },
  {
   "cell_type": "markdown",
   "metadata": {},
   "source": [
    "# First date"
   ]
  },
  {
   "cell_type": "code",
   "execution_count": 38,
   "metadata": {},
   "outputs": [
    {
     "data": {
      "text/plain": [
       "0        \\n6 Nov. 2020\\n\n",
       "1       \\n21 July 2020\\n\n",
       "2       \\n13 Nov. 2020\\n\n",
       "3        \\n5 Oct. 2018\\n\n",
       "4        \\n6 Feb. 2014\\n\n",
       "             ...        \n",
       "355     \\n3 April 2015\\n\n",
       "356      \\n9 Oct. 2020\\n\n",
       "357    \\n13 April 2020\\n\n",
       "358     \\n13 July 2020\\n\n",
       "359      \\n6 Feb. 2014\\n\n",
       "Name: first_date, Length: 360, dtype: object"
      ]
     },
     "execution_count": 38,
     "metadata": {},
     "output_type": "execute_result"
    }
   ],
   "source": [
    "data['first_date']"
   ]
  },
  {
   "cell_type": "markdown",
   "metadata": {},
   "source": [
    "Amazon uses the format 'day month year' (ex: 23 Jan. 2019), where the the month is not standarised. They use common names but July, April and September are not abbreviated properly. In addition, they use points and Python datetimes does not. \n",
    "\n",
    "In order to standarise the values we transform the values with the next function."
   ]
  },
  {
   "cell_type": "code",
   "execution_count": 39,
   "metadata": {},
   "outputs": [],
   "source": [
    "def get_date(date):  # string dates\n",
    "    \n",
    "    if  type(date)!= str:\n",
    "        return np.nan\n",
    "    \n",
    "    new_date = date[1:-1].replace('.', '')\n",
    "    different_months = {'July': 'Jul', 'April': 'Apr', 'Sept': 'Sep'}\n",
    "    date_elements = new_date.split(' ')\n",
    "    \n",
    "    # checking integrity of the date\n",
    "    \n",
    "    if len(date_elements) != 3:\n",
    "        return np.nan\n",
    "    \n",
    "    if date_elements[1] not in list(different_months.keys()):\n",
    "        result = datetime.datetime.strptime(new_date, '%d %b %Y')\n",
    "        \n",
    "    else:\n",
    "        date_elements[1] = different_months[date_elements[1]]\n",
    "        processed_date = date_elements[0]+' '+date_elements[1]+' '+date_elements[2]\n",
    "        \n",
    "        result = datetime.datetime.strptime(processed_date, '%d %b %Y')\n",
    "    \n",
    "    return result"
   ]
  },
  {
   "cell_type": "code",
   "execution_count": 40,
   "metadata": {},
   "outputs": [],
   "source": [
    "data['first_date'] = data['first_date'].apply(lambda x: get_date(x))"
   ]
  },
  {
   "cell_type": "markdown",
   "metadata": {},
   "source": [
    "# Category and position"
   ]
  },
  {
   "cell_type": "code",
   "execution_count": 41,
   "metadata": {},
   "outputs": [
    {
     "data": {
      "text/plain": [
       "\"['882 in Sports & Outdoors (See Top 100 in Sports & Outdoors)', '3 in Boxing Training Gloves']\""
      ]
     },
     "execution_count": 41,
     "metadata": {},
     "output_type": "execute_result"
    }
   ],
   "source": [
    "data['categories'].loc[0]"
   ]
  },
  {
   "cell_type": "markdown",
   "metadata": {},
   "source": [
    "In this case we notice that, usually, we have two values in the list: A general category and a particular category inside the general. In both cases we are just interested in the position and the name of the categories:\n",
    "\n",
    "1. General category: '{position} in {category} (See Top 100 in Sports & Outdoors)'\n",
    "2. Specific category: '{position} in {specific category}'\n",
    "\n",
    "In both cases we will remove the phrase between the parenthesis, remove special characters (such as # or &) and split by whitespaces in order to remove the connector 'in'."
   ]
  },
  {
   "cell_type": "code",
   "execution_count": 42,
   "metadata": {},
   "outputs": [],
   "source": [
    "def get_categories_and_positions(strings_array):  # ---> resolver\n",
    "    \n",
    "    strings_array = ast.literal_eval(strings_array) # evaluate the list\n",
    "    result = []\n",
    "    for category in strings_array:\n",
    "        \n",
    "        position, name = None, ''\n",
    "        \n",
    "        if 'Amazon Bestsellers Rank:' in category:\n",
    "            for char in ['#', ',']:\n",
    "                category = category.replace(char, '')\n",
    "            \n",
    "            position = int(category.split(' ')[category.split(' ').index('Rank:')+1].replace(',', ''))\n",
    "            \n",
    "            if '(' in category:\n",
    "                init_ind = category.index('(')\n",
    "                category = category[:init_ind]\n",
    "            \n",
    "            for x in category.split(' ')[5:]:\n",
    "                name = name+' '+x\n",
    "            \n",
    "            result.append(name.strip()), result.append(position)\n",
    "            continue\n",
    "            \n",
    "        chars=[]\n",
    "        for char in ['#', ',']:\n",
    "            chars = category.replace(char, '')\n",
    "        \n",
    "        if '(' in chars:\n",
    "            init_ind = chars.index('(')\n",
    "            chars = chars[:init_ind]\n",
    "        \n",
    "        chars = chars.strip().split(' ')\n",
    "        position = int(chars[0].replace('#', ''))\n",
    "\n",
    "        for x in range(2,len(chars)):\n",
    "            name = name  + ' ' + chars[x]\n",
    "            \n",
    "        result.append(name.strip()), result.append(position)\n",
    "        \n",
    "    return result"
   ]
  },
  {
   "cell_type": "code",
   "execution_count": 43,
   "metadata": {},
   "outputs": [],
   "source": [
    "categories_positions = pd.DataFrame(\n",
    "    data['categories'].apply(lambda x: get_categories_and_positions(x)).tolist()\n",
    ").loc[:, 0:3]\n",
    "\n",
    "categories_positions.columns = ['category', 'position_c', 'subcategory', 'position_s']\n",
    "\n",
    "data = pd.concat([data, categories_positions], axis=1)"
   ]
  },
  {
   "cell_type": "code",
   "execution_count": 44,
   "metadata": {},
   "outputs": [
    {
     "data": {
      "text/plain": [
       "title                0\n",
       "brand                0\n",
       "rating              68\n",
       "ratings_number       0\n",
       "price                6\n",
       "prime_option         0\n",
       "answers              0\n",
       "first_date          22\n",
       "sponsored_option     0\n",
       "categories           0\n",
       "position             0\n",
       "page                 0\n",
       "category            21\n",
       "position_c          21\n",
       "subcategory         21\n",
       "position_s          21\n",
       "dtype: int64"
      ]
     },
     "execution_count": 44,
     "metadata": {},
     "output_type": "execute_result"
    }
   ],
   "source": [
    "data.isnull().sum()"
   ]
  },
  {
   "cell_type": "markdown",
   "metadata": {},
   "source": [
    "# Export to csv and finish"
   ]
  },
  {
   "cell_type": "code",
   "execution_count": 45,
   "metadata": {},
   "outputs": [],
   "source": [
    "data.to_csv('../data/interim/amazon_shop_data_boxing_fighting_gloves_interim.csv', index=False)"
   ]
  }
 ],
 "metadata": {
  "kernelspec": {
   "display_name": "Python 3",
   "language": "python",
   "name": "python3"
  },
  "language_info": {
   "codemirror_mode": {
    "name": "ipython",
    "version": 3
   },
   "file_extension": ".py",
   "mimetype": "text/x-python",
   "name": "python",
   "nbconvert_exporter": "python",
   "pygments_lexer": "ipython3",
   "version": "3.8.5"
  }
 },
 "nbformat": 4,
 "nbformat_minor": 4
}
