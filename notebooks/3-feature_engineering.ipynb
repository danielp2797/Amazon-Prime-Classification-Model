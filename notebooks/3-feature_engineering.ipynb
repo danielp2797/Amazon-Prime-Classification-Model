{
 "cells": [
  {
   "cell_type": "markdown",
   "metadata": {},
   "source": [
    "# Content"
   ]
  },
  {
   "cell_type": "markdown",
   "metadata": {},
   "source": [
    "In this notebook, we will build the predictors features to classify products in prime or not prime."
   ]
  },
  {
   "cell_type": "code",
   "execution_count": 2,
   "metadata": {},
   "outputs": [],
   "source": [
    "import pandas as pd\n",
    "import numpy as np\n",
    "import seaborn as sns\n",
    "import matplotlib.pyplot as plt"
   ]
  },
  {
   "cell_type": "code",
   "execution_count": 3,
   "metadata": {},
   "outputs": [],
   "source": [
    "data = pd.read_csv('../data/interim/amazon_shop_data_boxing_fighting_gloves_interim.csv')"
   ]
  },
  {
   "cell_type": "markdown",
   "metadata": {},
   "source": [
    "# 1. Price bool\n",
    "\n",
    "During the exploratory analysis, we saw that the price conditioned the number of prime products. We will simplify the feature into boolean. We will assume a price band between twenty and infinite pounds and another price band between zero and 19.99 pounds."
   ]
  },
  {
   "cell_type": "code",
   "execution_count": 4,
   "metadata": {},
   "outputs": [
    {
     "data": {
      "image/png": "[encoded data removed]",
      "text/plain": [
       "<Figure size 432x288 with 1 Axes>"
      ]
     },
     "metadata": {
      "needs_background": "light"
     },
     "output_type": "display_data"
    }
   ],
   "source": [
    "prime_by_price = pd.crosstab((data['price'] >=20),\n",
    "                    data['prime_option'])\n",
    "\n",
    "prime_by_price.plot(kind='bar',stacked=True)\n",
    "plt.legend(['No Prime', 'Prime'], loc='upper right')\n",
    "plt.title('Products in Prime')\n",
    "plt.ylabel('No. products')\n",
    "plt.xlabel('Price in [20, inf]')\n",
    "plt.savefig('figures/price_bool.png')\n",
    "plt.show()\n",
    "\n",
    "data['price_bool'] = (data['price'] >=20)"
   ]
  },
  {
   "cell_type": "markdown",
   "metadata": {},
   "source": [
    "# 2. Position in category rank standarized"
   ]
  },
  {
   "cell_type": "markdown",
   "metadata": {},
   "source": [
    "We are going to standarize the position in cat due to the high range of values."
   ]
  },
  {
   "cell_type": "code",
   "execution_count": 42,
   "metadata": {},
   "outputs": [
    {
     "name": "stdout",
     "output_type": "stream",
     "text": [
      "category position range:  [ 396.0 , 943348.0 ]\n"
     ]
    }
   ],
   "source": [
    "print('category position range: ', '[', min(data['position_c']),',', max(data['position_c']),']')"
   ]
  },
  {
   "cell_type": "markdown",
   "metadata": {},
   "source": [
    "We will standarize the feature:\n",
    "$$Y = \\frac{X - \\mu_x}{\\sigma_x}$$\n",
    "If we use this transformation, the optimization algorithms will perform better in a soft space than in a large and empty one."
   ]
  },
  {
   "cell_type": "code",
   "execution_count": 43,
   "metadata": {},
   "outputs": [],
   "source": [
    "data['position_cat_stand'] = (data['position_c'] - np.mean(data['position_c']))/np.std(data['position_c'])"
   ]
  },
  {
   "cell_type": "markdown",
   "metadata": {},
   "source": [
    "# 3. Product rating to integer"
   ]
  },
  {
   "cell_type": "markdown",
   "metadata": {},
   "source": [
    "Initially, the rating is between zero and five with one decimal (ex: 4.2, 3.8, etc.). We will transform the feature into an integer such that: $X \\longrightarrow 10X$. This transformation allows better interpretability in terms of unitary increments than the float version."
   ]
  },
  {
   "cell_type": "code",
   "execution_count": 44,
   "metadata": {},
   "outputs": [],
   "source": [
    "data['rating_mult'] = data['rating']*10"
   ]
  },
  {
   "cell_type": "markdown",
   "metadata": {},
   "source": [
    "# Export the training dataset to csv"
   ]
  },
  {
   "cell_type": "markdown",
   "metadata": {},
   "source": [
    "Finally we just export the training dataset to implement the model."
   ]
  },
  {
   "cell_type": "code",
   "execution_count": 47,
   "metadata": {},
   "outputs": [],
   "source": [
    "training_data = data[['price_bool', 'rating_mult',\n",
    "                      'sponsored_option', 'position_cat_stand',\n",
    "                      'prime_option', 'subcategory']]\n",
    "training_data.to_csv('../data/processed/training_data.csv', index=False)"
   ]
  },
  {
   "cell_type": "code",
   "execution_count": null,
   "metadata": {},
   "outputs": [],
   "source": []
  }
 ],
 "metadata": {
  "kernelspec": {
   "display_name": "Python 3",
   "language": "python",
   "name": "python3"
  },
  "language_info": {
   "codemirror_mode": {
    "name": "ipython",
    "version": 3
   },
   "file_extension": ".py",
   "mimetype": "text/x-python",
   "name": "python",
   "nbconvert_exporter": "python",
   "pygments_lexer": "ipython3",
   "version": "3.8.5"
  }
 },
 "nbformat": 4,
 "nbformat_minor": 4
}
